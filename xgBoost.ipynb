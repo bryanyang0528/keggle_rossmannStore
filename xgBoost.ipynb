{
 "cells": [
  {
   "cell_type": "code",
   "execution_count": 1,
   "metadata": {
    "collapsed": false
   },
   "outputs": [
    {
     "data": {
      "text/plain": [
       "'\\nBased on https://www.kaggle.com/justdoit/rossmann-store-sales/xgboost-in-python-with-rmspe/code\\nPublic Score :  0.10826\\nPrivate Validation Score :  0.090811\\n'"
      ]
     },
     "execution_count": 1,
     "metadata": {},
     "output_type": "execute_result"
    }
   ],
   "source": [
    "'''\n",
    "Based on https://www.kaggle.com/justdoit/rossmann-store-sales/xgboost-in-python-with-rmspe/code\n",
    "Public Score :  0.10826\n",
    "Private Validation Score :  0.090811\n",
    "'''"
   ]
  },
  {
   "cell_type": "code",
   "execution_count": 2,
   "metadata": {
    "collapsed": false
   },
   "outputs": [],
   "source": [
    "\n",
    "import pandas as pd\n",
    "import numpy as np\n",
    "from sklearn.cross_validation import train_test_split\n",
    "import xgboost as xgb\n",
    "import operator\n",
    "import matplotlib\n",
    "matplotlib.use(\"Agg\") #Needed to save figures\n",
    "import matplotlib.pyplot as plt"
   ]
  },
  {
   "cell_type": "code",
   "execution_count": 3,
   "metadata": {
    "collapsed": true
   },
   "outputs": [],
   "source": [
    "def create_feature_map(features):\n",
    "    outfile = open('xgb.fmap', 'w')\n",
    "    for i, feat in enumerate(features):\n",
    "        outfile.write('{0}\\t{1}\\tq\\n'.format(i, feat))\n",
    "    outfile.close()\n",
    "\n",
    "def rmspe(y, yhat):\n",
    "    return np.sqrt(np.mean((yhat/y-1) ** 2))\n",
    "\n",
    "def rmspe_xg(yhat, y):\n",
    "    y = np.expm1(y.get_label())\n",
    "    yhat = np.expm1(yhat)\n",
    "    return \"rmspe\", rmspe(y,yhat)\n"
   ]
  },
  {
   "cell_type": "code",
   "execution_count": 5,
   "metadata": {
    "collapsed": false
   },
   "outputs": [],
   "source": [
    "def build_features(features, data):\n",
    "    # remove NaNs\n",
    "    data.fillna(0, inplace=True)\n",
    "    data.loc[data.Open.isnull(), 'Open'] = 1\n",
    "    # Use some properties directly\n",
    "\n",
    "    # add some more with a bit of preprocessing\n",
    "    features.append('SchoolHoliday')\n",
    "    data['SchoolHoliday'] = data['SchoolHoliday'].astype(float)\n",
    "\n",
    "    features.extend(['StoreType', 'Assortment', 'StateHoliday'])\n",
    "    mappings = {'0':0, 'a':1, 'b':2, 'c':3, 'd':4}\n",
    "    data.StoreType.replace(mappings, inplace=True)\n",
    "    data.Assortment.replace(mappings, inplace=True)\n",
    "    data.StateHoliday.replace(mappings, inplace=True)\n",
    "\n",
    "    features.extend(['DayOfWeek', 'month', 'day', 'year'])\n",
    "    data['year'] = data.Date.dt.year\n",
    "    data['month'] = data.Date.dt.month\n",
    "    data['day'] = data.Date.dt.day\n",
    "    data['DayOfWeek'] = data.Date.dt.dayofweek\n",
    "    \n",
    "    features.extend(['competiter'])\n",
    "    #competiter\n",
    "    data['competiter'] = ((data['year'] > data['CompetitionOpenSinceYear']) | \\\n",
    "                          ((data['year'] == data['CompetitionOpenSinceYear']) & (data['month'] >=data['CompetitionOpenSinceMonth']))).astype('int')\n",
    "    \n",
    "    \n",
    "    "
   ]
  },
  {
   "cell_type": "code",
   "execution_count": 20,
   "metadata": {
    "collapsed": true
   },
   "outputs": [],
   "source": [
    "# calulate statistical value \n",
    "def build_sts_features(train, store):\n",
    "    \n",
    "    train['values']=train['Sales']/train['Customers']\n",
    "    store_mean=train.groupby('Store').mean()\n",
    "    store_mean['Customers_mean'] = store_mean['Customers']\n",
    "    store_mean['values_mean'] = store_mean['values']\n",
    "    store_mean['Store']=store_mean.index\n",
    "    \n",
    "    store = pd.merge(store, store_mean[['Store','Customers_mean','values_mean']], on='Store')\n",
    "    return store"
   ]
  },
  {
   "cell_type": "code",
   "execution_count": 53,
   "metadata": {
    "collapsed": false
   },
   "outputs": [
    {
     "name": "stdout",
     "output_type": "stream",
     "text": [
      "Load the training, test and store data using pandas\n"
     ]
    }
   ],
   "source": [
    "print(\"Load the training, test and store data using pandas\")\n",
    "types = {'CompetitionOpenSinceYear': np.dtype(int),\n",
    "         'CompetitionOpenSinceMonth': np.dtype(int),\n",
    "         'StateHoliday': np.dtype(str),\n",
    "         'Promo2SinceWeek': np.dtype(int),\n",
    "         'SchoolHoliday': np.dtype(float),\n",
    "         'PromoInterval': np.dtype(str)}\n",
    "train = pd.read_csv(\"data/train.csv\", parse_dates=[2], dtype=types)\n",
    "test = pd.read_csv(\"data/test.csv\", parse_dates=[3], dtype=types)\n",
    "store = pd.read_csv(\"data/store.csv\")"
   ]
  },
  {
   "cell_type": "code",
   "execution_count": 54,
   "metadata": {
    "collapsed": true
   },
   "outputs": [],
   "source": [
    "store =build_sts_features(train, store)"
   ]
  },
  {
   "cell_type": "code",
   "execution_count": 55,
   "metadata": {
    "collapsed": false,
    "scrolled": true
   },
   "outputs": [
    {
     "name": "stdout",
     "output_type": "stream",
     "text": [
      "Assume store open, if not provided\n"
     ]
    }
   ],
   "source": [
    "print(\"Assume store open, if not provided\")\n",
    "train.fillna(1, inplace=True)\n",
    "test.fillna(1, inplace=True)"
   ]
  },
  {
   "cell_type": "code",
   "execution_count": 56,
   "metadata": {
    "collapsed": false
   },
   "outputs": [
    {
     "name": "stdout",
     "output_type": "stream",
     "text": [
      "Consider only open stores for training. Closed stores wont count into the score.\n",
      "Use only Sales bigger then zero. Simplifies calculation of rmspe\n"
     ]
    }
   ],
   "source": [
    "print(\"Consider only open stores for training. Closed stores wont count into the score.\")\n",
    "train = train[train[\"Open\"] != 0]\n",
    "print(\"Use only Sales bigger then zero. Simplifies calculation of rmspe\")\n",
    "train = train[train[\"Sales\"] > 0]"
   ]
  },
  {
   "cell_type": "code",
   "execution_count": 57,
   "metadata": {
    "collapsed": false
   },
   "outputs": [
    {
     "name": "stdout",
     "output_type": "stream",
     "text": [
      "Join with store\n"
     ]
    }
   ],
   "source": [
    "print(\"Join with store\")\n",
    "train = pd.merge(train, store, on='Store')\n",
    "test = pd.merge(test, store, on='Store')"
   ]
  },
  {
   "cell_type": "code",
   "execution_count": 58,
   "metadata": {
    "collapsed": false
   },
   "outputs": [
    {
     "name": "stdout",
     "output_type": "stream",
     "text": [
      "augment features\n",
      "['Store', 'CompetitionDistance', 'CompetitionOpenSinceMonth', 'CompetitionOpenSinceYear', 'Promo', 'Promo2', 'Promo2SinceWeek', 'Promo2SinceYear', 'Customers_mean', 'values_mean', 'SchoolHoliday', 'StoreType', 'Assortment', 'StateHoliday', 'DayOfWeek', 'month', 'day', 'year', 'competiter']\n"
     ]
    }
   ],
   "source": [
    "features = []\n",
    "features.extend(['Store', 'CompetitionDistance', 'CompetitionOpenSinceMonth',\n",
    "                     'CompetitionOpenSinceYear', 'Promo', 'Promo2', 'Promo2SinceWeek',\n",
    "                     'Promo2SinceYear','Customers_mean','values_mean'])\n",
    "\n",
    "print(\"augment features\")\n",
    "build_features(features, train)\n",
    "build_features([], test)\n",
    "print(features)"
   ]
  },
  {
   "cell_type": "code",
   "execution_count": 59,
   "metadata": {
    "collapsed": false
   },
   "outputs": [
    {
     "name": "stdout",
     "output_type": "stream",
     "text": [
      "training data processed\n"
     ]
    }
   ],
   "source": [
    "print('training data processed')\n",
    "\n",
    "params = {\"objective\": \"reg:linear\",\n",
    "          \"booster\" : \"gbtree\",\n",
    "          \"eta\": 0.02,\n",
    "          \"max_depth\": 10,\n",
    "          \"subsample\": 0.9,\n",
    "          \"colsample_bytree\": 0.7,\n",
    "          \"silent\": 1,\n",
    "          \"seed\": 1301\n",
    "          }\n",
    "num_boost_round = 1000"
   ]
  },
  {
   "cell_type": "code",
   "execution_count": 60,
   "metadata": {
    "collapsed": false
   },
   "outputs": [
    {
     "data": {
      "text/plain": [
       "\"\\n# for custom-feature\\nfeatures=['Store',\\n 'CompetitionDistance',\\n 'Promo',\\n 'Promo2',\\n 'Promo2SinceWeek',\\n 'Promo2SinceYear',\\n 'SchoolHoliday',\\n 'StoreType',\\n 'Assortment',\\n 'StateHoliday',\\n 'DayOfWeek',\\n 'month',\\n 'day',\\n 'year',\\n 'competiter',\\n 'Customers_mean',\\n 'values_mean']\\n\""
      ]
     },
     "execution_count": 60,
     "metadata": {},
     "output_type": "execute_result"
    }
   ],
   "source": [
    "'''\n",
    "# for custom-feature\n",
    "features=['Store',\n",
    " 'CompetitionDistance',\n",
    " 'Promo',\n",
    " 'Promo2',\n",
    " 'Promo2SinceWeek',\n",
    " 'Promo2SinceYear',\n",
    " 'SchoolHoliday',\n",
    " 'StoreType',\n",
    " 'Assortment',\n",
    " 'StateHoliday',\n",
    " 'DayOfWeek',\n",
    " 'month',\n",
    " 'day',\n",
    " 'year',\n",
    " 'competiter',\n",
    " 'Customers_mean',\n",
    " 'values_mean']\n",
    "'''"
   ]
  },
  {
   "cell_type": "code",
   "execution_count": 61,
   "metadata": {
    "collapsed": false
   },
   "outputs": [
    {
     "name": "stdout",
     "output_type": "stream",
     "text": [
      "Train a XGBoost model\n"
     ]
    }
   ],
   "source": [
    "print(\"Train a XGBoost model\")\n",
    "X_train, X_valid = train_test_split(train, test_size=0.012, random_state=10)\n",
    "y_train = np.log1p(X_train.Sales)\n",
    "y_valid = np.log1p(X_valid.Sales)\n",
    "dtrain = xgb.DMatrix(X_train[features], y_train)\n",
    "dvalid = xgb.DMatrix(X_valid[features], y_valid)"
   ]
  },
  {
   "cell_type": "code",
   "execution_count": 63,
   "metadata": {
    "collapsed": false,
    "scrolled": true
   },
   "outputs": [
    {
     "name": "stderr",
     "output_type": "stream",
     "text": [
      "Will train until eval error hasn't decreased in 100 rounds.\n",
      "[0]\ttrain-rmspe:0.999998\teval-rmspe:0.999853\n",
      "[1]\ttrain-rmspe:0.999996\teval-rmspe:0.999783\n",
      "[2]\ttrain-rmspe:0.999993\teval-rmspe:0.999709\n",
      "[3]\ttrain-rmspe:0.999989\teval-rmspe:0.999629\n",
      "[4]\ttrain-rmspe:0.999983\teval-rmspe:0.999543\n",
      "[5]\ttrain-rmspe:0.999974\teval-rmspe:0.999447\n",
      "[6]\ttrain-rmspe:0.999963\teval-rmspe:0.999338\n",
      "[7]\ttrain-rmspe:0.999948\teval-rmspe:0.999212\n",
      "[8]\ttrain-rmspe:0.999927\teval-rmspe:0.999068\n",
      "[9]\ttrain-rmspe:0.999900\teval-rmspe:0.998907\n",
      "[10]\ttrain-rmspe:0.999866\teval-rmspe:0.998726\n",
      "[11]\ttrain-rmspe:0.999820\teval-rmspe:0.998524\n",
      "[12]\ttrain-rmspe:0.999760\teval-rmspe:0.998299\n",
      "[13]\ttrain-rmspe:0.999683\teval-rmspe:0.998048\n",
      "[14]\ttrain-rmspe:0.999587\teval-rmspe:0.997769\n",
      "[15]\ttrain-rmspe:0.999471\teval-rmspe:0.997459\n",
      "[16]\ttrain-rmspe:0.999324\teval-rmspe:0.997120\n",
      "[17]\ttrain-rmspe:0.999137\teval-rmspe:0.996745\n",
      "[18]\ttrain-rmspe:0.998899\teval-rmspe:0.996336\n",
      "[19]\ttrain-rmspe:0.998610\teval-rmspe:0.995884\n",
      "[20]\ttrain-rmspe:0.998267\teval-rmspe:0.995388\n",
      "[21]\ttrain-rmspe:0.997872\teval-rmspe:0.994851\n",
      "[22]\ttrain-rmspe:0.997385\teval-rmspe:0.994260\n",
      "[23]\ttrain-rmspe:0.996777\teval-rmspe:0.993622\n",
      "[24]\ttrain-rmspe:0.996033\teval-rmspe:0.992930\n",
      "[25]\ttrain-rmspe:0.995144\teval-rmspe:0.992176\n",
      "[26]\ttrain-rmspe:0.994152\teval-rmspe:0.991370\n",
      "[27]\ttrain-rmspe:0.993094\teval-rmspe:0.990498\n",
      "[28]\ttrain-rmspe:0.991967\teval-rmspe:0.989561\n",
      "[29]\ttrain-rmspe:0.990740\teval-rmspe:0.988554\n",
      "[30]\ttrain-rmspe:0.989348\teval-rmspe:0.987467\n",
      "[31]\ttrain-rmspe:0.987748\teval-rmspe:0.986303\n",
      "[32]\ttrain-rmspe:0.985967\teval-rmspe:0.985067\n",
      "[33]\ttrain-rmspe:0.984005\teval-rmspe:0.983753\n",
      "[34]\ttrain-rmspe:0.981940\teval-rmspe:0.982350\n",
      "[35]\ttrain-rmspe:0.979875\teval-rmspe:0.980860\n",
      "[36]\ttrain-rmspe:0.977860\teval-rmspe:0.979280\n",
      "[37]\ttrain-rmspe:0.975945\teval-rmspe:0.977603\n",
      "[38]\ttrain-rmspe:0.974135\teval-rmspe:0.975832\n",
      "[39]\ttrain-rmspe:0.972412\teval-rmspe:0.973958\n",
      "[40]\ttrain-rmspe:0.970736\teval-rmspe:0.971982\n",
      "[41]\ttrain-rmspe:0.969064\teval-rmspe:0.969889\n",
      "[42]\ttrain-rmspe:0.967340\teval-rmspe:0.967701\n",
      "[43]\ttrain-rmspe:0.965491\teval-rmspe:0.965400\n",
      "[44]\ttrain-rmspe:0.963447\teval-rmspe:0.962990\n",
      "[45]\ttrain-rmspe:0.961096\teval-rmspe:0.960449\n",
      "[46]\ttrain-rmspe:0.958471\teval-rmspe:0.957795\n",
      "[47]\ttrain-rmspe:0.955632\teval-rmspe:0.955036\n",
      "[48]\ttrain-rmspe:0.952549\teval-rmspe:0.952152\n",
      "[49]\ttrain-rmspe:0.949314\teval-rmspe:0.949133\n",
      "[50]\ttrain-rmspe:0.946016\teval-rmspe:0.946011\n",
      "[51]\ttrain-rmspe:0.942651\teval-rmspe:0.942768\n",
      "[52]\ttrain-rmspe:0.939250\teval-rmspe:0.939389\n",
      "[53]\ttrain-rmspe:0.935786\teval-rmspe:0.935878\n",
      "[54]\ttrain-rmspe:0.932244\teval-rmspe:0.932260\n",
      "[55]\ttrain-rmspe:0.928593\teval-rmspe:0.928519\n",
      "[56]\ttrain-rmspe:0.924781\teval-rmspe:0.924643\n",
      "[57]\ttrain-rmspe:0.920806\teval-rmspe:0.920648\n",
      "[58]\ttrain-rmspe:0.916686\teval-rmspe:0.916525\n",
      "[59]\ttrain-rmspe:0.912424\teval-rmspe:0.912280\n",
      "[60]\ttrain-rmspe:0.908031\teval-rmspe:0.907908\n",
      "[61]\ttrain-rmspe:0.903539\teval-rmspe:0.903417\n",
      "[62]\ttrain-rmspe:0.898926\teval-rmspe:0.898795\n",
      "[63]\ttrain-rmspe:0.894200\teval-rmspe:0.894037\n",
      "[64]\ttrain-rmspe:0.889374\teval-rmspe:0.889183\n",
      "[65]\ttrain-rmspe:0.884425\teval-rmspe:0.884211\n",
      "[66]\ttrain-rmspe:0.879339\teval-rmspe:0.879116\n",
      "[67]\ttrain-rmspe:0.874144\teval-rmspe:0.873906\n",
      "[68]\ttrain-rmspe:0.868809\teval-rmspe:0.868553\n",
      "[69]\ttrain-rmspe:0.863379\teval-rmspe:0.863102\n",
      "[70]\ttrain-rmspe:0.857863\teval-rmspe:0.857560\n",
      "[71]\ttrain-rmspe:0.852244\teval-rmspe:0.851914\n",
      "[72]\ttrain-rmspe:0.846509\teval-rmspe:0.846152\n",
      "[73]\ttrain-rmspe:0.840677\teval-rmspe:0.840305\n",
      "[74]\ttrain-rmspe:0.834737\teval-rmspe:0.834339\n",
      "[75]\ttrain-rmspe:0.828717\teval-rmspe:0.828285\n",
      "[76]\ttrain-rmspe:0.822593\teval-rmspe:0.822135\n",
      "[77]\ttrain-rmspe:0.816420\teval-rmspe:0.815906\n",
      "[78]\ttrain-rmspe:0.810106\teval-rmspe:0.809570\n",
      "[79]\ttrain-rmspe:0.803736\teval-rmspe:0.803158\n",
      "[80]\ttrain-rmspe:0.797287\teval-rmspe:0.796670\n",
      "[81]\ttrain-rmspe:0.790775\teval-rmspe:0.790115\n",
      "[82]\ttrain-rmspe:0.784171\teval-rmspe:0.783477\n",
      "[83]\ttrain-rmspe:0.777510\teval-rmspe:0.776761\n",
      "[84]\ttrain-rmspe:0.770785\teval-rmspe:0.769986\n",
      "[85]\ttrain-rmspe:0.764006\teval-rmspe:0.763155\n",
      "[86]\ttrain-rmspe:0.757191\teval-rmspe:0.756278\n",
      "[87]\ttrain-rmspe:0.750310\teval-rmspe:0.749343\n",
      "[88]\ttrain-rmspe:0.743384\teval-rmspe:0.742351\n",
      "[89]\ttrain-rmspe:0.736420\teval-rmspe:0.735317\n",
      "[90]\ttrain-rmspe:0.729398\teval-rmspe:0.728233\n",
      "[91]\ttrain-rmspe:0.722358\teval-rmspe:0.721116\n",
      "[92]\ttrain-rmspe:0.715261\teval-rmspe:0.713947\n",
      "[93]\ttrain-rmspe:0.708128\teval-rmspe:0.706732\n",
      "[94]\ttrain-rmspe:0.700992\teval-rmspe:0.699511\n",
      "[95]\ttrain-rmspe:0.693840\teval-rmspe:0.692268\n",
      "[96]\ttrain-rmspe:0.686655\teval-rmspe:0.684999\n",
      "[97]\ttrain-rmspe:0.679458\teval-rmspe:0.677709\n",
      "[98]\ttrain-rmspe:0.672259\teval-rmspe:0.670410\n",
      "[99]\ttrain-rmspe:0.665030\teval-rmspe:0.663089\n"
     ]
    }
   ],
   "source": [
    "watchlist = [(dtrain, 'train'), (dvalid, 'eval')]\n",
    "gbm = xgb.train(params, dtrain, num_boost_round, evals=watchlist, \\\n",
    "  early_stopping_rounds=100, feval=rmspe_xg, verbose_eval=True)"
   ]
  },
  {
   "cell_type": "code",
   "execution_count": 64,
   "metadata": {
    "collapsed": false
   },
   "outputs": [
    {
     "name": "stdout",
     "output_type": "stream",
     "text": [
      "Validating\n",
      "RMSPE: 0.663088\n"
     ]
    }
   ],
   "source": [
    "print(\"Validating\")\n",
    "yhat = gbm.predict(xgb.DMatrix(X_valid[features]))\n",
    "error = rmspe(X_valid.Sales.values, np.expm1(yhat))\n",
    "print('RMSPE: {:.6f}'.format(error))"
   ]
  },
  {
   "cell_type": "markdown",
   "metadata": {},
   "source": [
    "# submission"
   ]
  },
  {
   "cell_type": "code",
   "execution_count": 22,
   "metadata": {
    "collapsed": true
   },
   "outputs": [],
   "source": [
    "dtest = xgb.DMatrix(test[features])\n",
    "test_probs = gbm.predict(dtest)\n",
    "# Make Submission\n",
    "result = pd.DataFrame({\"Id\": test[\"Id\"], 'Sales': np.expm1(test_probs)})\n",
    "result.to_csv(\"xgboost_10_submission.csv\", index=False)"
   ]
  },
  {
   "cell_type": "markdown",
   "metadata": {},
   "source": [
    "# feature importance"
   ]
  },
  {
   "cell_type": "code",
   "execution_count": 337,
   "metadata": {
    "collapsed": true
   },
   "outputs": [],
   "source": [
    "create_feature_map(features)\n",
    "importance = gbm.get_fscore(fmap='xgb.fmap')\n",
    "importance = sorted(importance.items(), key=operator.itemgetter(1))\n",
    "\n",
    "df = pd.DataFrame(importance, columns=['feature', 'fscore'])\n",
    "df['fscore'] = df['fscore'] / df['fscore'].sum()\n",
    "\n",
    "featp = df.plot(kind='barh', x='feature', y='fscore', legend=False, figsize=(6, 10))\n",
    "plt.title('XGBoost Feature Importance')\n",
    "plt.xlabel('relative importance')\n",
    "fig_featp = featp.get_figure()\n",
    "fig_featp.savefig('feature_importance_xgb.png', bbox_inches='tight', pad_inches=1)\n"
   ]
  },
  {
   "cell_type": "code",
   "execution_count": null,
   "metadata": {
    "collapsed": true
   },
   "outputs": [],
   "source": []
  }
 ],
 "metadata": {
  "kernelspec": {
   "display_name": "Python 2",
   "language": "python",
   "name": "python2"
  },
  "language_info": {
   "codemirror_mode": {
    "name": "ipython",
    "version": 2
   },
   "file_extension": ".py",
   "mimetype": "text/x-python",
   "name": "python",
   "nbconvert_exporter": "python",
   "pygments_lexer": "ipython2",
   "version": "2.7.10"
  }
 },
 "nbformat": 4,
 "nbformat_minor": 0
}
